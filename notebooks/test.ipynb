{
 "cells": [
  {
   "cell_type": "code",
   "execution_count": 7,
   "metadata": {},
   "outputs": [
    {
     "data": {
      "text/plain": [
       "True"
      ]
     },
     "execution_count": 7,
     "metadata": {},
     "output_type": "execute_result"
    }
   ],
   "source": [
    "from dotenv import load_dotenv, find_dotenv\n",
    "\n",
    "load_dotenv(find_dotenv())\n"
   ]
  },
  {
   "cell_type": "code",
   "execution_count": 14,
   "metadata": {},
   "outputs": [
    {
     "name": "stdout",
     "output_type": "stream",
     "text": [
      "Text from https://21st.ai/:\n",
      "21st.ai Open menu Why 21st? Features Pricing Roadmap Articles Jobs Sign up Sign in What's new Check the last updates 21st century board and shareholder work is automated A simple tool to make company management more valuable. Sign up You make company management valuable We make your board and shareholder work effective and streamlined 21st enables anyone to run professional board and shareholder processes with a minimum of hassle and prior knowledge. Simplified Keep all work in one place. Templa\n",
      "Text from https://21st.ai/#features:\n",
      "21st.ai Open menu Why 21st? Features Pricing Roadmap Articles Jobs Sign up Sign in What's new Check the last updates 21st century board and shareholder work is automated A simple tool to make company management more valuable. Sign up You make company management valuable We make your board and shareholder work effective and streamlined 21st enables anyone to run professional board and shareholder processes with a minimum of hassle and prior knowledge. Simplified Keep all work in one place. Templa\n",
      "Text from https://21st.ai/articles:\n",
      "Articles Open menu Why 21st? Features Pricing Roadmap Articles Jobs Sign up Sign in Articles Here you will find documentation for the 21st functionality, a description of the program's feature, and previews of what we plan to do in the future. Meeting management Document management General app General app Appifying valuable company governance 21st is a solution that has been around for some time. What was originally a simple mechanism to help managing the company's board has been transformed int\n",
      "Text from https://21st.ai/#why:\n",
      "21st.ai Open menu Why 21st? Features Pricing Roadmap Articles Jobs Sign up Sign in What's new Check the last updates 21st century board and shareholder work is automated A simple tool to make company management more valuable. Sign up You make company management valuable We make your board and shareholder work effective and streamlined 21st enables anyone to run professional board and shareholder processes with a minimum of hassle and prior knowledge. Simplified Keep all work in one place. Templa\n",
      "Text from https://21st.ai/articles/meeting-management/why-and-how-we-rebuild-the-21st-board-app:\n",
      "Why and how we rebuild the 21st board app Open menu Why 21st? Features Pricing Roadmap Articles Jobs Sign up Sign in Meeting management Why and how we rebuild the 21st board app 21st was initially created as a simple tool to support board meetings. However, the application has undergone significant changes since then. Today, the 21st app is a modern solution that combines several functionalities - including a stakeholders registry, end-to-end support for board meetings and shareholder assemblies\n",
      "Text from https://21st.ai/#pricing:\n",
      "21st.ai Open menu Why 21st? Features Pricing Roadmap Articles Jobs Sign up Sign in What's new Check the last updates 21st century board and shareholder work is automated A simple tool to make company management more valuable. Sign up You make company management valuable We make your board and shareholder work effective and streamlined 21st enables anyone to run professional board and shareholder processes with a minimum of hassle and prior knowledge. Simplified Keep all work in one place. Templa\n",
      "Text from https://21st.ai/articles/meeting-management:\n",
      "Meeting management Open menu Why 21st? Features Pricing Roadmap Articles Jobs Sign up Sign in Articles Here you will find documentation for the 21st functionality, a description of the program's feature, and previews of what we plan to do in the future. Meeting management Document management General app Meeting management Hassle free general assembly with 21st 21st is designed to improve company management. One of its main features is the shareholders' module, which allows you to easily keep a r\n",
      "Text from https://app.21st.ai/register:\n",
      "21st You need to enable JavaScript to run this app.\n",
      "Text from https://21st.ai/articles/document-management:\n",
      "Document management Open menu Why 21st? Features Pricing Roadmap Articles Jobs Sign up Sign in Articles Here you will find documentation for the 21st functionality, a description of the program's feature, and previews of what we plan to do in the future. Meeting management Document management General app Document management Compliance starts with well documented and organised decisions A company's success depends on a combination of many factors. However, one of the main elements determining the\n",
      "Text from https://21st.ai/articles/general-app/appifying-valuable-company-governance:\n",
      "Appifying valuable company governance Open menu Why 21st? Features Pricing Roadmap Articles Jobs Sign up Sign in General app Appifying valuable company governance 21st is a solution that has been around for some time. What was originally a simple mechanism to help managing the company's board has been transformed into a tool that is the central element of the  \"company's operating system. \" Our concept is to build modules that the user can turn on as needed. The stakeholder graph, the board app,\n",
      "Text from https://21st.ai/jobs:\n",
      "Jobs Open menu Why 21st? Features Pricing Roadmap Articles Jobs Sign up Sign in Are we the community you are looking for? Our Polish-Norwegian team is creating state-of-the-art admin tech solutions for the Scandinavian market. We are making the 21st App - a solution supporting modern decision-making processes in companies. We build our own product, so we don't have to worry about the changing requirements of the customers We are using the latest technologies and world-class quality standards We \n",
      "Text from https://app.21st.ai/api/docs/:\n",
      "Swagger UI\n",
      "Text from https://21st.ai/articles/general-app:\n",
      "General app Open menu Why 21st? Features Pricing Roadmap Articles Jobs Sign up Sign in Articles Here you will find documentation for the 21st functionality, a description of the program's feature, and previews of what we plan to do in the future. Meeting management Document management General app General app Appifying valuable company governance 21st is a solution that has been around for some time. What was originally a simple mechanism to help managing the company's board has been transformed \n",
      "Text from https://21st.ai/terms-and-conditions:\n",
      "Terms and conditions Open menu Why 21st? Features Pricing Roadmap Articles Jobs Sign up Sign in Terms & Conditions 1. Introduction 1.1 Who we are 21st Company AS provides a platform of various digital services relating to company management. The services are owned by 21st Company AS (hereinafter “21st”, “we” or “us”), a private limited company registered in Norway, with organization number 920 713 378. To contact us, please email info@21st.ai 1.2 When these terms apply These Terms & Conditions (\n",
      "Text from https://21st.ai/articles/meeting-management/hassle-free-general-assembly-with-21st:\n",
      "Hassle free general assembly with 21st Open menu Why 21st? Features Pricing Roadmap Articles Jobs Sign up Sign in Meeting management Hassle free general assembly with 21st 21st is designed to improve company management. One of its main features is the shareholders' module, which allows you to easily keep a register of shareholders and conduct hassle-free general assembly meetings. By facilitating and accelerating administrative activities, 21st improves the quality of the decision-making process\n",
      "Text from https://21st.ai/data-processing-agreement:\n",
      "Data processing agreement Open menu Why 21st? Features Pricing Roadmap Articles Jobs Sign up Sign in DATA PROCESSING AGREEMENT 21st Company AS , org. no. 920 713 378, (\" Data Processor \") And Organizations signing up as users of 21st (\" Controller \") Jointly the Data Processor and Controller is referred to as “ The Parties ” 1. Background and purpose The parties have entered into an agreement with the Data Processor as Supplier and the Data Controller as Customer (the \"Main Agreement\") when the \n",
      "Text from https://21st.ai/articles/document-management/compliance-starts-with-well-documented-and-organised-decisions:\n",
      "Compliance starts with well documented and organised decisions Open menu Why 21st? Features Pricing Roadmap Articles Jobs Sign up Sign in Document management Compliance starts with well documented and organised decisions A company's success depends on a combination of many factors. However, one of the main elements determining the success of business ventures is the quality of decisions made. 21st supports this process by supporting best practice, building and documenting processes, deliverables\n",
      "Text from https://app.21st.ai/:\n",
      "21st You need to enable JavaScript to run this app.\n",
      "Text from https://21st.ai/privacy-policy:\n",
      "Privacy policy Open menu Why 21st? Features Pricing Roadmap Articles Jobs Sign up Sign in Privacy Policy 21st 1. Introduction 21st Company AS (hereinafter “we”, “us” or “21st”) offers access to and use of 21st company management technology platform, portal, software, technical interfaces and related technology (collectively the \"21st Platform\" ) as provided by us, for the purpose of enabling efficient company management. This Privacy Policy describes how we collect your information whenever you,\n",
      "Text from https://21st.ai/cookie-policy:\n",
      "Cookie policy Open menu Why 21st? Features Pricing Roadmap Articles Jobs Sign up Sign in Cookies and information capsules What is a cookie? Cookies are text files containing small amounts of information which are downloaded to your device when you visit a website. Cookies are then sent back to the originating website on each subsequent visit, or to another website that recognises that cookie. Cookies are useful because they allow a website to recognise a user’s device. Cookies help us to improve\n"
     ]
    }
   ],
   "source": [
    "import requests\n",
    "from bs4 import BeautifulSoup\n",
    "from urllib.parse import urljoin, urlparse\n",
    "\n",
    "\n",
    "def is_valid_url(url, main_domain, exclude_pattern):\n",
    "    parsed = urlparse(url)\n",
    "    return (\n",
    "        bool(parsed.netloc)\n",
    "        and parsed.netloc.endswith(main_domain)\n",
    "        and not url.startswith(exclude_pattern)\n",
    "    )\n",
    "\n",
    "\n",
    "def is_image_url(url):\n",
    "    # Check if URL is an image (png, jpg, jpeg, etc.)\n",
    "    return url.lower().endswith((\".png\", \".jpg\", \".jpeg\", \".gif\", \".bmp\", \".svg\"))\n",
    "\n",
    "\n",
    "def scrape_site(start_url, exclude_pattern):\n",
    "    visited = set()\n",
    "    to_visit = {start_url}\n",
    "    main_domain = urlparse(start_url).netloc\n",
    "\n",
    "    scraped_text = \"\"\n",
    "\n",
    "    while to_visit:\n",
    "        url = to_visit.pop()\n",
    "        if url in visited or is_image_url(url):\n",
    "            continue\n",
    "        visited.add(url)\n",
    "\n",
    "        try:\n",
    "            response = requests.get(url)\n",
    "            soup = BeautifulSoup(response.content, \"html.parser\")\n",
    "\n",
    "            # Extract and print text\n",
    "            text = soup.get_text(separator=\" \", strip=True)\n",
    "            scraped_text += text\n",
    "            print(f\"Text from {url}:\")\n",
    "            print(text[:500])  # Print first 500 characters of text for demonstration\n",
    "\n",
    "            # Find and process all links\n",
    "            for link in soup.find_all(\"a\", href=True):\n",
    "                absolute_link = urljoin(url, link[\"href\"])\n",
    "                if is_valid_url(absolute_link, main_domain, exclude_pattern):\n",
    "                    to_visit.add(absolute_link)\n",
    "\n",
    "        except requests.exceptions.RequestException as e:\n",
    "            print(f\"Request failed for {url}: {e}\")\n",
    "\n",
    "    return scraped_text\n",
    "\n",
    "\n",
    "start_url = \"https://21st.ai/\"\n",
    "exclude_pattern = \"https://21st.ai/no/\"\n",
    "scraped_text = scrape_site(start_url, exclude_pattern)\n",
    "with open(\"scraped_text.txt\", \"w\") as file:\n",
    "    file.write(scraped_text)\n"
   ]
  },
  {
   "cell_type": "code",
   "execution_count": 10,
   "metadata": {},
   "outputs": [
    {
     "data": {
      "text/plain": [
       "(1591, 1536)"
      ]
     },
     "execution_count": 10,
     "metadata": {},
     "output_type": "execute_result"
    }
   ],
   "source": [
    "from langchain.text_splitter import RecursiveCharacterTextSplitter\n",
    "from langchain.embeddings import OpenAIEmbeddings\n",
    "\n",
    "text_splitter = RecursiveCharacterTextSplitter(\n",
    "    # Set a really small chunk size, just to show.\n",
    "    chunk_size=100,\n",
    "    chunk_overlap=20,\n",
    "    length_function=len,\n",
    "    add_start_index=True,\n",
    ")\n",
    "\n",
    "texts = text_splitter.create_documents([scraped_text])\n",
    "\n",
    "embeddings_model = OpenAIEmbeddings()\n",
    "\n",
    "embeddings = embeddings_model.embed_documents([t.page_content for t in texts])"
   ]
  },
  {
   "cell_type": "code",
   "execution_count": null,
   "metadata": {},
   "outputs": [],
   "source": []
  }
 ],
 "metadata": {
  "kernelspec": {
   "display_name": "ragster",
   "language": "python",
   "name": "python3"
  },
  "language_info": {
   "codemirror_mode": {
    "name": "ipython",
    "version": 3
   },
   "file_extension": ".py",
   "mimetype": "text/x-python",
   "name": "python",
   "nbconvert_exporter": "python",
   "pygments_lexer": "ipython3",
   "version": "3.11.6"
  }
 },
 "nbformat": 4,
 "nbformat_minor": 2
}
